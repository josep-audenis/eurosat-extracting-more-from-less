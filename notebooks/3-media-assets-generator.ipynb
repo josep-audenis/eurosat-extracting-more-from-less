{
 "cells": [
  {
   "cell_type": "markdown",
   "id": "4175c0c3",
   "metadata": {},
   "source": [
    "# Media Assets Generation"
   ]
  },
  {
   "cell_type": "code",
   "execution_count": 10,
   "id": "988f31e3",
   "metadata": {},
   "outputs": [],
   "source": [
    "import os\n",
    "import math\n",
    "import random\n",
    "from PIL import Image"
   ]
  },
  {
   "cell_type": "markdown",
   "id": "b07237e1",
   "metadata": {},
   "source": [
    "## Collage"
   ]
  },
  {
   "cell_type": "code",
   "execution_count": 6,
   "id": "b50ca500",
   "metadata": {},
   "outputs": [],
   "source": [
    "base_path = \"../data/dataset/\"\n",
    "base_path = base_path + \"EuroSAT/\"\n",
    "labels = os.listdir(base_path)"
   ]
  },
  {
   "cell_type": "code",
   "execution_count": 7,
   "id": "3ba2a566",
   "metadata": {},
   "outputs": [
    {
     "name": "stdout",
     "output_type": "stream",
     "text": [
      "Total images found: 527\n"
     ]
    }
   ],
   "source": [
    "image_files = []\n",
    "for category in labels:\n",
    "\tcategory_dir = base_path + category + \"/\"\n",
    "\tcount = 0\n",
    "\tdirectory_content = os.listdir(category_dir)\n",
    "\tfor f in directory_content:\n",
    "\t\tcount += 1\n",
    "\t\t# print(f\"{count}/{len(directory_content)/8}\")\n",
    "\t\tif count == int(len(directory_content)/50):\n",
    "\t\t\tbreak\n",
    "\t\timage_files.append(category_dir + f)\n",
    "\n",
    "print(f\"Total images found: {len(image_files)}\")"
   ]
  },
  {
   "cell_type": "code",
   "execution_count": 8,
   "id": "33289be0",
   "metadata": {},
   "outputs": [],
   "source": [
    "images = [Image.open(f).resize((32, 32)) for f in image_files]"
   ]
  },
  {
   "cell_type": "code",
   "execution_count": 11,
   "id": "d13341c4",
   "metadata": {},
   "outputs": [],
   "source": [
    "random.shuffle(images)"
   ]
  },
  {
   "cell_type": "code",
   "execution_count": 15,
   "id": "66efafdc",
   "metadata": {},
   "outputs": [],
   "source": [
    "target_aspect_ratio = 16 / 9\n",
    "\n",
    "num_images = len(images)\n",
    "thumb_width, thumb_height = images[0].size\n",
    "\n",
    "approx_cols = math.sqrt(num_images * target_aspect_ratio)\n",
    "cols = max(1, int(approx_cols))\n",
    "\n",
    "rows = math.ceil(num_images / cols)\n",
    "\n",
    "total_images = rows * cols\n",
    "if total_images > num_images:\n",
    "    rows -= 1\n",
    "    total_images = rows * cols\n",
    "\n",
    "images = images[:total_images]\n",
    "\n",
    "collage_width = cols * thumb_width\n",
    "collage_height = rows * thumb_height\n",
    "aspect_ratio = collage_width / collage_height\n",
    "\n",
    "collage_image = Image.new('RGB', (collage_width, collage_height))\n",
    "\n",
    "for idx, image in enumerate(images):\n",
    "    x = (idx % cols) * thumb_width\n",
    "    y = (idx // cols) * thumb_height\n",
    "    collage_image.paste(image, (x, y))\n",
    "\n",
    "collage_image.save(\"../docs/generated_assets/eurosat_collage.jpeg\")"
   ]
  }
 ],
 "metadata": {
  "kernelspec": {
   "display_name": "base",
   "language": "python",
   "name": "python3"
  },
  "language_info": {
   "codemirror_mode": {
    "name": "ipython",
    "version": 3
   },
   "file_extension": ".py",
   "mimetype": "text/x-python",
   "name": "python",
   "nbconvert_exporter": "python",
   "pygments_lexer": "ipython3",
   "version": "3.12.7"
  }
 },
 "nbformat": 4,
 "nbformat_minor": 5
}
